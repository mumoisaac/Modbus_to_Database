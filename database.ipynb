{
 "cells": [
  {
   "cell_type": "code",
   "execution_count": 75,
   "metadata": {},
   "outputs": [
    {
     "name": "stdout",
     "output_type": "stream",
     "text": [
      "1 Record inserted successfully into mobile table\n",
      "{'user': 'postgres', 'dbname': 'postgres', 'host': '127.0.0.1', 'port': '5432', 'tty': '', 'options': '', 'sslmode': 'prefer', 'sslcompression': '0', 'gssencmode': 'prefer', 'krbsrvname': 'postgres', 'target_session_attrs': 'any'} \n",
      "\n",
      "You are connected to -  ('PostgreSQL 10.11 (Ubuntu 10.11-1.pgdg18.04+1) on x86_64-pc-linux-gnu, compiled by gcc (Ubuntu 7.4.0-1ubuntu1~18.04.1) 7.4.0, 64-bit',) \n",
      "\n",
      "PostgreSQL connection is closed\n",
      "The first class connects to the database. This has been done successfully\n",
      "The Time Now is: 23-12-19 14:59:41\n",
      "This is the second class in my code and it is for trial purposes 29\n"
     ]
    }
   ],
   "source": [
    "import psycopg2\n",
    "import numpy\n",
    "import time\n",
    "import datetime\n",
    "import csv\n",
    "import pandas as pd\n",
    "\n",
    "#-----------------------------------------------------------------------------------#\n",
    "#This class uses the module psycopg2 to connect to the postreSQL database.\n",
    "#-----------------------------------------------------------------------------------#\n",
    "\n",
    "class ConnectToDatabase:\n",
    "    try:\n",
    "#-----------------------------------------------------------------------------------#        \n",
    "#create a connection to a PostgreSQL database instance\n",
    "#-----------------------------------------------------------------------------------#\n",
    "        connection = psycopg2.connect(user = \"postgres\",\n",
    "                                      password = \"Goonsville1\",\n",
    "                                      host = \"127.0.0.1\",\n",
    "                                      port = \"5432\",\n",
    "                                      database = \"postgres\")\n",
    "#-----------------------------------------------------------------------------------#                                             \n",
    "#Executes PostgreSQL command in a database session\n",
    "#-----------------------------------------------------------------------------------#\n",
    "        cursor = connection.cursor()\n",
    "        postgres_insert_query = \"\"\"INSERT INTO persons (first_name, last_name, dob, email) VALUES (%s,%s,%s,%s)\"\"\"\n",
    "        record_to_insert = ('kiloo','eisns','1901-00-12', 'isabel_query, record_to_insert)\n",
    "@gmail.com')\n",
    "        cursor.execute(postgres_insert\n",
    "        connection.commit()\n",
    "        count = cursor.rowcount\n",
    "        print (count, \"Record inserted successfully into mobile table\")\n",
    "        time.sleep(1)\n",
    "        # Print PostgreSQL Connection properties\n",
    "        print ( connection.get_dsn_parameters(),\"\\n\")\n",
    "        time.sleep(1)\n",
    "        cursor.execute(\"SELECT version();\")\n",
    "        record = cursor.fetchone()\n",
    "        print(\"You are connected to - \", record,\"\\n\")\n",
    "        time.sleep(1)\n",
    "    except (Exception, psycopg2.Error) as error :\n",
    "        print (\"Error while connecting to PostgreSQL\", error)\n",
    "        time.sleep(1)\n",
    "    finally:\n",
    "        #closing database connection.\n",
    "            if(connection):\n",
    "                cursor.close()\n",
    "                connection.close()\n",
    "                print(\"PostgreSQL connection is closed\")\n",
    "                time.sleep(1)\n",
    "    print('The first class connects to the database. This has been done successfully')\n",
    "    time.sleep(1)\n",
    "\n",
    "    NowTime = datetime.datetime.now() #Prints the current time\n",
    "    print('The Time Now is:',NowTime.strftime(\"%d-%m-%y %H:%M:%S\"))            \n",
    "class SumUpNumbers:\n",
    "    \n",
    "    def _enter_(self):\n",
    "        return self\n",
    "    \n",
    "    def my_function(self, y, x, z):\n",
    "        x = 2**2\n",
    "        y = 3**2\n",
    "        z = 4**2\n",
    "        total = x+y+z\n",
    "        return total\n",
    "    print('This is the second class in my code and it is for trial purposes',my_function(3,3,1,1))\n",
    "\n",
    "                                      \n",
    "#-------------------------------------Importank links-------------------------------#                                      Important links\n",
    "#https://pymodbus.readthedocs.io/en/latest/source/example/modbus_scraper.html\n",
    "#https://hakibenita.com/fast-load-data-python-postgresql\n",
    "#http://www.postgresqltutorial.com/postgresql-python/query/\n",
    "#https://www.dataloggersuite.com/tutorials/modbus-to-mssql-2.htm - data logger.\n",
    "#https://docs.timescale.com/latest/tutorials/telegraf-output-plugin #TimescaleDB\n",
    "#-----------------------------------------------------------------------------------#"
   ]
  },
  {
   "cell_type": "code",
   "execution_count": 63,
   "metadata": {},
   "outputs": [
    {
     "name": "stdout",
     "output_type": "stream",
     "text": [
      "29\n"
     ]
    }
   ],
   "source": [
    "import numpy as np\n",
    "\n",
    "class SumUpNumbers:\n",
    "    \n",
    "    def _enter_(self):\n",
    "        return self\n",
    "    \n",
    "    def my_function(self, y, x, z):\n",
    "        x = 2**2\n",
    "        y = 3**2\n",
    "        z = 4**2\n",
    "        total = x+y+z\n",
    "        return total\n",
    "    print(my_function(3,3,1,1))"
   ]
  },
  {
   "cell_type": "code",
   "execution_count": 20,
   "metadata": {},
   "outputs": [
    {
     "data": {
      "text/plain": [
       "10"
      ]
     },
     "execution_count": 20,
     "metadata": {},
     "output_type": "execute_result"
    }
   ],
   "source": [
    "\n"
   ]
  },
  {
   "cell_type": "code",
   "execution_count": null,
   "metadata": {},
   "outputs": [],
   "source": []
  }
 ],
 "metadata": {
  "kernelspec": {
   "display_name": "Python 3",
   "language": "python",
   "name": "python3"
  },
  "language_info": {
   "codemirror_mode": {
    "name": "ipython",
    "version": 3
   },
   "file_extension": ".py",
   "mimetype": "text/x-python",
   "name": "python",
   "nbconvert_exporter": "python",
   "pygments_lexer": "ipython3",
   "version": "3.7.4"
  }
 },
 "nbformat": 4,
 "nbformat_minor": 2
}
